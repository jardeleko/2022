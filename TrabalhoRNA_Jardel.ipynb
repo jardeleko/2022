{
  "cells": [
    {
      "cell_type": "markdown",
      "metadata": {
        "id": "5TX1EwmBpig_"
      },
      "source": [
        "\n",
        "\n",
        "## Modelo para o Sensor CEI\n",
        "\n",
        "Este dataset **\"DataCEI.csv\"** possui informações dispostas em colunas sobre as características dos objetos que passam pelo sensor:\n",
        "\n",
        "* **Tamanho**:  Segue a classificação do CEI2020 (Tamanho='0' - Grande 100%).\n",
        "* **Referencia**:  Referência dinâmica do *Threshold.\n",
        "* **NumAmostra**:  Número de amostras adquiridas.\n",
        "* **Area**:  Somatório das Amplitudes das amostras.\n",
        "* **Delta**:  Máxima Amplitude da amostra.\n",
        "* **Output1**:  Peça tipo 1.\n",
        "* **Output2**:  Peça tipo 2.\n",
        "\n",
        "\n",
        "\n",
        "### Bibliotecas"
      ]
    },
    {
      "cell_type": "code",
      "execution_count": 57,
      "metadata": {
        "id": "Hf2RJLFDpihC"
      },
      "outputs": [],
      "source": [
        "import pandas as pd\n",
        "import numpy as np\n",
        "import matplotlib.pyplot as plt\n",
        "import seaborn as sns\n",
        "%matplotlib inline\n",
        "\n",
        "#Função do cáculo da sigmóide\n",
        "def sigmoid(x):\n",
        "    return 1/(1+np.exp(-x))"
      ]
    },
    {
      "cell_type": "code",
      "source": [
        "from google.colab import drive\n",
        "drive.mount('/gdrive')"
      ],
      "metadata": {
        "colab": {
          "base_uri": "https://localhost:8080/"
        },
        "id": "2bKiOoj0q_yR",
        "outputId": "5b2861e9-c549-4930-add3-d70eb1284d9a"
      },
      "execution_count": 58,
      "outputs": [
        {
          "output_type": "stream",
          "name": "stdout",
          "text": [
            "Drive already mounted at /gdrive; to attempt to forcibly remount, call drive.mount(\"/gdrive\", force_remount=True).\n"
          ]
        }
      ]
    },
    {
      "cell_type": "markdown",
      "metadata": {
        "id": "ggtEqQNWpihE"
      },
      "source": [
        "### Carregando os dados\n",
        "\n",
        "Vamos começar lendo o arquivo arruela.csv em um dataframe do pandas."
      ]
    },
    {
      "cell_type": "code",
      "execution_count": 59,
      "metadata": {
        "id": "y7jP_tdNpihE"
      },
      "outputs": [],
      "source": [
        "DataSet=pd.read_csv('/gdrive/My Drive/DATA/arruela.csv')"
      ]
    },
    {
      "cell_type": "markdown",
      "source": [
        ""
      ],
      "metadata": {
        "id": "GKKX_BzXIY1k"
      }
    },
    {
      "cell_type": "code",
      "execution_count": 60,
      "metadata": {
        "colab": {
          "base_uri": "https://localhost:8080/",
          "height": 206
        },
        "id": "WVDg47mKpihF",
        "outputId": "b17034ae-dbb3-432c-8d05-839ed03187e1"
      },
      "outputs": [
        {
          "output_type": "execute_result",
          "data": {
            "text/html": [
              "\n",
              "  <div id=\"df-14c28f5d-a4b4-431d-ace0-11c4e8548793\">\n",
              "    <div class=\"colab-df-container\">\n",
              "      <div>\n",
              "<style scoped>\n",
              "    .dataframe tbody tr th:only-of-type {\n",
              "        vertical-align: middle;\n",
              "    }\n",
              "\n",
              "    .dataframe tbody tr th {\n",
              "        vertical-align: top;\n",
              "    }\n",
              "\n",
              "    .dataframe thead th {\n",
              "        text-align: right;\n",
              "    }\n",
              "</style>\n",
              "<table border=\"1\" class=\"dataframe\">\n",
              "  <thead>\n",
              "    <tr style=\"text-align: right;\">\n",
              "      <th></th>\n",
              "      <th>Hora</th>\n",
              "      <th>Tamanho</th>\n",
              "      <th>Referencia</th>\n",
              "      <th>NumAmostra</th>\n",
              "      <th>Area</th>\n",
              "      <th>Delta</th>\n",
              "      <th>Output1</th>\n",
              "      <th>Output2</th>\n",
              "    </tr>\n",
              "  </thead>\n",
              "  <tbody>\n",
              "    <tr>\n",
              "      <th>0</th>\n",
              "      <td>13:00:06</td>\n",
              "      <td>53</td>\n",
              "      <td>25</td>\n",
              "      <td>69</td>\n",
              "      <td>81</td>\n",
              "      <td>68</td>\n",
              "      <td>1</td>\n",
              "      <td>0</td>\n",
              "    </tr>\n",
              "    <tr>\n",
              "      <th>1</th>\n",
              "      <td>13:00:07</td>\n",
              "      <td>53</td>\n",
              "      <td>26</td>\n",
              "      <td>89</td>\n",
              "      <td>87</td>\n",
              "      <td>56</td>\n",
              "      <td>1</td>\n",
              "      <td>0</td>\n",
              "    </tr>\n",
              "    <tr>\n",
              "      <th>2</th>\n",
              "      <td>13:00:08</td>\n",
              "      <td>53</td>\n",
              "      <td>27</td>\n",
              "      <td>68</td>\n",
              "      <td>69</td>\n",
              "      <td>55</td>\n",
              "      <td>1</td>\n",
              "      <td>0</td>\n",
              "    </tr>\n",
              "    <tr>\n",
              "      <th>3</th>\n",
              "      <td>13:00:09</td>\n",
              "      <td>53</td>\n",
              "      <td>28</td>\n",
              "      <td>36</td>\n",
              "      <td>50</td>\n",
              "      <td>80</td>\n",
              "      <td>1</td>\n",
              "      <td>0</td>\n",
              "    </tr>\n",
              "    <tr>\n",
              "      <th>4</th>\n",
              "      <td>13:00:10</td>\n",
              "      <td>53</td>\n",
              "      <td>29</td>\n",
              "      <td>71</td>\n",
              "      <td>72</td>\n",
              "      <td>50</td>\n",
              "      <td>1</td>\n",
              "      <td>0</td>\n",
              "    </tr>\n",
              "  </tbody>\n",
              "</table>\n",
              "</div>\n",
              "      <button class=\"colab-df-convert\" onclick=\"convertToInteractive('df-14c28f5d-a4b4-431d-ace0-11c4e8548793')\"\n",
              "              title=\"Convert this dataframe to an interactive table.\"\n",
              "              style=\"display:none;\">\n",
              "        \n",
              "  <svg xmlns=\"http://www.w3.org/2000/svg\" height=\"24px\"viewBox=\"0 0 24 24\"\n",
              "       width=\"24px\">\n",
              "    <path d=\"M0 0h24v24H0V0z\" fill=\"none\"/>\n",
              "    <path d=\"M18.56 5.44l.94 2.06.94-2.06 2.06-.94-2.06-.94-.94-2.06-.94 2.06-2.06.94zm-11 1L8.5 8.5l.94-2.06 2.06-.94-2.06-.94L8.5 2.5l-.94 2.06-2.06.94zm10 10l.94 2.06.94-2.06 2.06-.94-2.06-.94-.94-2.06-.94 2.06-2.06.94z\"/><path d=\"M17.41 7.96l-1.37-1.37c-.4-.4-.92-.59-1.43-.59-.52 0-1.04.2-1.43.59L10.3 9.45l-7.72 7.72c-.78.78-.78 2.05 0 2.83L4 21.41c.39.39.9.59 1.41.59.51 0 1.02-.2 1.41-.59l7.78-7.78 2.81-2.81c.8-.78.8-2.07 0-2.86zM5.41 20L4 18.59l7.72-7.72 1.47 1.35L5.41 20z\"/>\n",
              "  </svg>\n",
              "      </button>\n",
              "      \n",
              "  <style>\n",
              "    .colab-df-container {\n",
              "      display:flex;\n",
              "      flex-wrap:wrap;\n",
              "      gap: 12px;\n",
              "    }\n",
              "\n",
              "    .colab-df-convert {\n",
              "      background-color: #E8F0FE;\n",
              "      border: none;\n",
              "      border-radius: 50%;\n",
              "      cursor: pointer;\n",
              "      display: none;\n",
              "      fill: #1967D2;\n",
              "      height: 32px;\n",
              "      padding: 0 0 0 0;\n",
              "      width: 32px;\n",
              "    }\n",
              "\n",
              "    .colab-df-convert:hover {\n",
              "      background-color: #E2EBFA;\n",
              "      box-shadow: 0px 1px 2px rgba(60, 64, 67, 0.3), 0px 1px 3px 1px rgba(60, 64, 67, 0.15);\n",
              "      fill: #174EA6;\n",
              "    }\n",
              "\n",
              "    [theme=dark] .colab-df-convert {\n",
              "      background-color: #3B4455;\n",
              "      fill: #D2E3FC;\n",
              "    }\n",
              "\n",
              "    [theme=dark] .colab-df-convert:hover {\n",
              "      background-color: #434B5C;\n",
              "      box-shadow: 0px 1px 3px 1px rgba(0, 0, 0, 0.15);\n",
              "      filter: drop-shadow(0px 1px 2px rgba(0, 0, 0, 0.3));\n",
              "      fill: #FFFFFF;\n",
              "    }\n",
              "  </style>\n",
              "\n",
              "      <script>\n",
              "        const buttonEl =\n",
              "          document.querySelector('#df-14c28f5d-a4b4-431d-ace0-11c4e8548793 button.colab-df-convert');\n",
              "        buttonEl.style.display =\n",
              "          google.colab.kernel.accessAllowed ? 'block' : 'none';\n",
              "\n",
              "        async function convertToInteractive(key) {\n",
              "          const element = document.querySelector('#df-14c28f5d-a4b4-431d-ace0-11c4e8548793');\n",
              "          const dataTable =\n",
              "            await google.colab.kernel.invokeFunction('convertToInteractive',\n",
              "                                                     [key], {});\n",
              "          if (!dataTable) return;\n",
              "\n",
              "          const docLinkHtml = 'Like what you see? Visit the ' +\n",
              "            '<a target=\"_blank\" href=https://colab.research.google.com/notebooks/data_table.ipynb>data table notebook</a>'\n",
              "            + ' to learn more about interactive tables.';\n",
              "          element.innerHTML = '';\n",
              "          dataTable['output_type'] = 'display_data';\n",
              "          await google.colab.output.renderOutput(dataTable, element);\n",
              "          const docLink = document.createElement('div');\n",
              "          docLink.innerHTML = docLinkHtml;\n",
              "          element.appendChild(docLink);\n",
              "        }\n",
              "      </script>\n",
              "    </div>\n",
              "  </div>\n",
              "  "
            ],
            "text/plain": [
              "       Hora  Tamanho  Referencia  NumAmostra  Area  Delta  Output1  Output2\n",
              "0  13:00:06       53          25          69    81     68        1        0\n",
              "1  13:00:07       53          26          89    87     56        1        0\n",
              "2  13:00:08       53          27          68    69     55        1        0\n",
              "3  13:00:09       53          28          36    50     80        1        0\n",
              "4  13:00:10       53          29          71    72     50        1        0"
            ]
          },
          "metadata": {},
          "execution_count": 60
        }
      ],
      "source": [
        "DataSet.head()"
      ]
    },
    {
      "cell_type": "code",
      "execution_count": 61,
      "metadata": {
        "id": "grxkLit7pihG"
      },
      "outputs": [],
      "source": [
        "DataSet.drop(['Hora','Referencia'],axis=1,inplace=True)"
      ]
    },
    {
      "cell_type": "code",
      "execution_count": 62,
      "metadata": {
        "colab": {
          "base_uri": "https://localhost:8080/",
          "height": 206
        },
        "id": "IUnQo52RpihH",
        "outputId": "72f4ceb7-ef77-4327-de2f-10edac581653"
      },
      "outputs": [
        {
          "output_type": "execute_result",
          "data": {
            "text/html": [
              "\n",
              "  <div id=\"df-4a8d1168-faaa-4bff-9c83-188590cf14d3\">\n",
              "    <div class=\"colab-df-container\">\n",
              "      <div>\n",
              "<style scoped>\n",
              "    .dataframe tbody tr th:only-of-type {\n",
              "        vertical-align: middle;\n",
              "    }\n",
              "\n",
              "    .dataframe tbody tr th {\n",
              "        vertical-align: top;\n",
              "    }\n",
              "\n",
              "    .dataframe thead th {\n",
              "        text-align: right;\n",
              "    }\n",
              "</style>\n",
              "<table border=\"1\" class=\"dataframe\">\n",
              "  <thead>\n",
              "    <tr style=\"text-align: right;\">\n",
              "      <th></th>\n",
              "      <th>Tamanho</th>\n",
              "      <th>NumAmostra</th>\n",
              "      <th>Area</th>\n",
              "      <th>Delta</th>\n",
              "      <th>Output1</th>\n",
              "      <th>Output2</th>\n",
              "    </tr>\n",
              "  </thead>\n",
              "  <tbody>\n",
              "    <tr>\n",
              "      <th>0</th>\n",
              "      <td>53</td>\n",
              "      <td>69</td>\n",
              "      <td>81</td>\n",
              "      <td>68</td>\n",
              "      <td>1</td>\n",
              "      <td>0</td>\n",
              "    </tr>\n",
              "    <tr>\n",
              "      <th>1</th>\n",
              "      <td>53</td>\n",
              "      <td>89</td>\n",
              "      <td>87</td>\n",
              "      <td>56</td>\n",
              "      <td>1</td>\n",
              "      <td>0</td>\n",
              "    </tr>\n",
              "    <tr>\n",
              "      <th>2</th>\n",
              "      <td>53</td>\n",
              "      <td>68</td>\n",
              "      <td>69</td>\n",
              "      <td>55</td>\n",
              "      <td>1</td>\n",
              "      <td>0</td>\n",
              "    </tr>\n",
              "    <tr>\n",
              "      <th>3</th>\n",
              "      <td>53</td>\n",
              "      <td>36</td>\n",
              "      <td>50</td>\n",
              "      <td>80</td>\n",
              "      <td>1</td>\n",
              "      <td>0</td>\n",
              "    </tr>\n",
              "    <tr>\n",
              "      <th>4</th>\n",
              "      <td>53</td>\n",
              "      <td>71</td>\n",
              "      <td>72</td>\n",
              "      <td>50</td>\n",
              "      <td>1</td>\n",
              "      <td>0</td>\n",
              "    </tr>\n",
              "  </tbody>\n",
              "</table>\n",
              "</div>\n",
              "      <button class=\"colab-df-convert\" onclick=\"convertToInteractive('df-4a8d1168-faaa-4bff-9c83-188590cf14d3')\"\n",
              "              title=\"Convert this dataframe to an interactive table.\"\n",
              "              style=\"display:none;\">\n",
              "        \n",
              "  <svg xmlns=\"http://www.w3.org/2000/svg\" height=\"24px\"viewBox=\"0 0 24 24\"\n",
              "       width=\"24px\">\n",
              "    <path d=\"M0 0h24v24H0V0z\" fill=\"none\"/>\n",
              "    <path d=\"M18.56 5.44l.94 2.06.94-2.06 2.06-.94-2.06-.94-.94-2.06-.94 2.06-2.06.94zm-11 1L8.5 8.5l.94-2.06 2.06-.94-2.06-.94L8.5 2.5l-.94 2.06-2.06.94zm10 10l.94 2.06.94-2.06 2.06-.94-2.06-.94-.94-2.06-.94 2.06-2.06.94z\"/><path d=\"M17.41 7.96l-1.37-1.37c-.4-.4-.92-.59-1.43-.59-.52 0-1.04.2-1.43.59L10.3 9.45l-7.72 7.72c-.78.78-.78 2.05 0 2.83L4 21.41c.39.39.9.59 1.41.59.51 0 1.02-.2 1.41-.59l7.78-7.78 2.81-2.81c.8-.78.8-2.07 0-2.86zM5.41 20L4 18.59l7.72-7.72 1.47 1.35L5.41 20z\"/>\n",
              "  </svg>\n",
              "      </button>\n",
              "      \n",
              "  <style>\n",
              "    .colab-df-container {\n",
              "      display:flex;\n",
              "      flex-wrap:wrap;\n",
              "      gap: 12px;\n",
              "    }\n",
              "\n",
              "    .colab-df-convert {\n",
              "      background-color: #E8F0FE;\n",
              "      border: none;\n",
              "      border-radius: 50%;\n",
              "      cursor: pointer;\n",
              "      display: none;\n",
              "      fill: #1967D2;\n",
              "      height: 32px;\n",
              "      padding: 0 0 0 0;\n",
              "      width: 32px;\n",
              "    }\n",
              "\n",
              "    .colab-df-convert:hover {\n",
              "      background-color: #E2EBFA;\n",
              "      box-shadow: 0px 1px 2px rgba(60, 64, 67, 0.3), 0px 1px 3px 1px rgba(60, 64, 67, 0.15);\n",
              "      fill: #174EA6;\n",
              "    }\n",
              "\n",
              "    [theme=dark] .colab-df-convert {\n",
              "      background-color: #3B4455;\n",
              "      fill: #D2E3FC;\n",
              "    }\n",
              "\n",
              "    [theme=dark] .colab-df-convert:hover {\n",
              "      background-color: #434B5C;\n",
              "      box-shadow: 0px 1px 3px 1px rgba(0, 0, 0, 0.15);\n",
              "      filter: drop-shadow(0px 1px 2px rgba(0, 0, 0, 0.3));\n",
              "      fill: #FFFFFF;\n",
              "    }\n",
              "  </style>\n",
              "\n",
              "      <script>\n",
              "        const buttonEl =\n",
              "          document.querySelector('#df-4a8d1168-faaa-4bff-9c83-188590cf14d3 button.colab-df-convert');\n",
              "        buttonEl.style.display =\n",
              "          google.colab.kernel.accessAllowed ? 'block' : 'none';\n",
              "\n",
              "        async function convertToInteractive(key) {\n",
              "          const element = document.querySelector('#df-4a8d1168-faaa-4bff-9c83-188590cf14d3');\n",
              "          const dataTable =\n",
              "            await google.colab.kernel.invokeFunction('convertToInteractive',\n",
              "                                                     [key], {});\n",
              "          if (!dataTable) return;\n",
              "\n",
              "          const docLinkHtml = 'Like what you see? Visit the ' +\n",
              "            '<a target=\"_blank\" href=https://colab.research.google.com/notebooks/data_table.ipynb>data table notebook</a>'\n",
              "            + ' to learn more about interactive tables.';\n",
              "          element.innerHTML = '';\n",
              "          dataTable['output_type'] = 'display_data';\n",
              "          await google.colab.output.renderOutput(dataTable, element);\n",
              "          const docLink = document.createElement('div');\n",
              "          docLink.innerHTML = docLinkHtml;\n",
              "          element.appendChild(docLink);\n",
              "        }\n",
              "      </script>\n",
              "    </div>\n",
              "  </div>\n",
              "  "
            ],
            "text/plain": [
              "   Tamanho  NumAmostra  Area  Delta  Output1  Output2\n",
              "0       53          69    81     68        1        0\n",
              "1       53          89    87     56        1        0\n",
              "2       53          68    69     55        1        0\n",
              "3       53          36    50     80        1        0\n",
              "4       53          71    72     50        1        0"
            ]
          },
          "metadata": {},
          "execution_count": 62
        }
      ],
      "source": [
        "DataSet.head()"
      ]
    },
    {
      "cell_type": "code",
      "execution_count": 63,
      "metadata": {
        "colab": {
          "base_uri": "https://localhost:8080/",
          "height": 300
        },
        "id": "SBVoo4B3pihI",
        "outputId": "e6bf6f3d-03e1-4a3f-fa97-dd780e678e9c"
      },
      "outputs": [
        {
          "output_type": "execute_result",
          "data": {
            "text/html": [
              "\n",
              "  <div id=\"df-06869053-ea2e-4a37-b292-f6feb93c3d35\">\n",
              "    <div class=\"colab-df-container\">\n",
              "      <div>\n",
              "<style scoped>\n",
              "    .dataframe tbody tr th:only-of-type {\n",
              "        vertical-align: middle;\n",
              "    }\n",
              "\n",
              "    .dataframe tbody tr th {\n",
              "        vertical-align: top;\n",
              "    }\n",
              "\n",
              "    .dataframe thead th {\n",
              "        text-align: right;\n",
              "    }\n",
              "</style>\n",
              "<table border=\"1\" class=\"dataframe\">\n",
              "  <thead>\n",
              "    <tr style=\"text-align: right;\">\n",
              "      <th></th>\n",
              "      <th>Tamanho</th>\n",
              "      <th>NumAmostra</th>\n",
              "      <th>Area</th>\n",
              "      <th>Delta</th>\n",
              "      <th>Output1</th>\n",
              "      <th>Output2</th>\n",
              "    </tr>\n",
              "  </thead>\n",
              "  <tbody>\n",
              "    <tr>\n",
              "      <th>count</th>\n",
              "      <td>261.000000</td>\n",
              "      <td>261.000000</td>\n",
              "      <td>261.000000</td>\n",
              "      <td>261.000000</td>\n",
              "      <td>261.000000</td>\n",
              "      <td>261.000000</td>\n",
              "    </tr>\n",
              "    <tr>\n",
              "      <th>mean</th>\n",
              "      <td>53.126437</td>\n",
              "      <td>59.777778</td>\n",
              "      <td>63.697318</td>\n",
              "      <td>54.747126</td>\n",
              "      <td>0.375479</td>\n",
              "      <td>0.624521</td>\n",
              "    </tr>\n",
              "    <tr>\n",
              "      <th>std</th>\n",
              "      <td>1.174779</td>\n",
              "      <td>17.293075</td>\n",
              "      <td>30.629366</td>\n",
              "      <td>35.548413</td>\n",
              "      <td>0.485177</td>\n",
              "      <td>0.485177</td>\n",
              "    </tr>\n",
              "    <tr>\n",
              "      <th>min</th>\n",
              "      <td>53.000000</td>\n",
              "      <td>3.000000</td>\n",
              "      <td>6.000000</td>\n",
              "      <td>17.000000</td>\n",
              "      <td>0.000000</td>\n",
              "      <td>0.000000</td>\n",
              "    </tr>\n",
              "    <tr>\n",
              "      <th>25%</th>\n",
              "      <td>53.000000</td>\n",
              "      <td>50.000000</td>\n",
              "      <td>46.000000</td>\n",
              "      <td>38.000000</td>\n",
              "      <td>0.000000</td>\n",
              "      <td>0.000000</td>\n",
              "    </tr>\n",
              "    <tr>\n",
              "      <th>50%</th>\n",
              "      <td>53.000000</td>\n",
              "      <td>59.000000</td>\n",
              "      <td>56.000000</td>\n",
              "      <td>44.000000</td>\n",
              "      <td>0.000000</td>\n",
              "      <td>1.000000</td>\n",
              "    </tr>\n",
              "    <tr>\n",
              "      <th>75%</th>\n",
              "      <td>53.000000</td>\n",
              "      <td>69.000000</td>\n",
              "      <td>68.000000</td>\n",
              "      <td>54.000000</td>\n",
              "      <td>1.000000</td>\n",
              "      <td>1.000000</td>\n",
              "    </tr>\n",
              "    <tr>\n",
              "      <th>max</th>\n",
              "      <td>64.000000</td>\n",
              "      <td>120.000000</td>\n",
              "      <td>201.000000</td>\n",
              "      <td>251.000000</td>\n",
              "      <td>1.000000</td>\n",
              "      <td>1.000000</td>\n",
              "    </tr>\n",
              "  </tbody>\n",
              "</table>\n",
              "</div>\n",
              "      <button class=\"colab-df-convert\" onclick=\"convertToInteractive('df-06869053-ea2e-4a37-b292-f6feb93c3d35')\"\n",
              "              title=\"Convert this dataframe to an interactive table.\"\n",
              "              style=\"display:none;\">\n",
              "        \n",
              "  <svg xmlns=\"http://www.w3.org/2000/svg\" height=\"24px\"viewBox=\"0 0 24 24\"\n",
              "       width=\"24px\">\n",
              "    <path d=\"M0 0h24v24H0V0z\" fill=\"none\"/>\n",
              "    <path d=\"M18.56 5.44l.94 2.06.94-2.06 2.06-.94-2.06-.94-.94-2.06-.94 2.06-2.06.94zm-11 1L8.5 8.5l.94-2.06 2.06-.94-2.06-.94L8.5 2.5l-.94 2.06-2.06.94zm10 10l.94 2.06.94-2.06 2.06-.94-2.06-.94-.94-2.06-.94 2.06-2.06.94z\"/><path d=\"M17.41 7.96l-1.37-1.37c-.4-.4-.92-.59-1.43-.59-.52 0-1.04.2-1.43.59L10.3 9.45l-7.72 7.72c-.78.78-.78 2.05 0 2.83L4 21.41c.39.39.9.59 1.41.59.51 0 1.02-.2 1.41-.59l7.78-7.78 2.81-2.81c.8-.78.8-2.07 0-2.86zM5.41 20L4 18.59l7.72-7.72 1.47 1.35L5.41 20z\"/>\n",
              "  </svg>\n",
              "      </button>\n",
              "      \n",
              "  <style>\n",
              "    .colab-df-container {\n",
              "      display:flex;\n",
              "      flex-wrap:wrap;\n",
              "      gap: 12px;\n",
              "    }\n",
              "\n",
              "    .colab-df-convert {\n",
              "      background-color: #E8F0FE;\n",
              "      border: none;\n",
              "      border-radius: 50%;\n",
              "      cursor: pointer;\n",
              "      display: none;\n",
              "      fill: #1967D2;\n",
              "      height: 32px;\n",
              "      padding: 0 0 0 0;\n",
              "      width: 32px;\n",
              "    }\n",
              "\n",
              "    .colab-df-convert:hover {\n",
              "      background-color: #E2EBFA;\n",
              "      box-shadow: 0px 1px 2px rgba(60, 64, 67, 0.3), 0px 1px 3px 1px rgba(60, 64, 67, 0.15);\n",
              "      fill: #174EA6;\n",
              "    }\n",
              "\n",
              "    [theme=dark] .colab-df-convert {\n",
              "      background-color: #3B4455;\n",
              "      fill: #D2E3FC;\n",
              "    }\n",
              "\n",
              "    [theme=dark] .colab-df-convert:hover {\n",
              "      background-color: #434B5C;\n",
              "      box-shadow: 0px 1px 3px 1px rgba(0, 0, 0, 0.15);\n",
              "      filter: drop-shadow(0px 1px 2px rgba(0, 0, 0, 0.3));\n",
              "      fill: #FFFFFF;\n",
              "    }\n",
              "  </style>\n",
              "\n",
              "      <script>\n",
              "        const buttonEl =\n",
              "          document.querySelector('#df-06869053-ea2e-4a37-b292-f6feb93c3d35 button.colab-df-convert');\n",
              "        buttonEl.style.display =\n",
              "          google.colab.kernel.accessAllowed ? 'block' : 'none';\n",
              "\n",
              "        async function convertToInteractive(key) {\n",
              "          const element = document.querySelector('#df-06869053-ea2e-4a37-b292-f6feb93c3d35');\n",
              "          const dataTable =\n",
              "            await google.colab.kernel.invokeFunction('convertToInteractive',\n",
              "                                                     [key], {});\n",
              "          if (!dataTable) return;\n",
              "\n",
              "          const docLinkHtml = 'Like what you see? Visit the ' +\n",
              "            '<a target=\"_blank\" href=https://colab.research.google.com/notebooks/data_table.ipynb>data table notebook</a>'\n",
              "            + ' to learn more about interactive tables.';\n",
              "          element.innerHTML = '';\n",
              "          dataTable['output_type'] = 'display_data';\n",
              "          await google.colab.output.renderOutput(dataTable, element);\n",
              "          const docLink = document.createElement('div');\n",
              "          docLink.innerHTML = docLinkHtml;\n",
              "          element.appendChild(docLink);\n",
              "        }\n",
              "      </script>\n",
              "    </div>\n",
              "  </div>\n",
              "  "
            ],
            "text/plain": [
              "          Tamanho  NumAmostra        Area       Delta     Output1     Output2\n",
              "count  261.000000  261.000000  261.000000  261.000000  261.000000  261.000000\n",
              "mean    53.126437   59.777778   63.697318   54.747126    0.375479    0.624521\n",
              "std      1.174779   17.293075   30.629366   35.548413    0.485177    0.485177\n",
              "min     53.000000    3.000000    6.000000   17.000000    0.000000    0.000000\n",
              "25%     53.000000   50.000000   46.000000   38.000000    0.000000    0.000000\n",
              "50%     53.000000   59.000000   56.000000   44.000000    0.000000    1.000000\n",
              "75%     53.000000   69.000000   68.000000   54.000000    1.000000    1.000000\n",
              "max     64.000000  120.000000  201.000000  251.000000    1.000000    1.000000"
            ]
          },
          "metadata": {},
          "execution_count": 63
        }
      ],
      "source": [
        "DataSet.describe()"
      ]
    },
    {
      "cell_type": "markdown",
      "metadata": {
        "id": "G7C5mgW_pihI"
      },
      "source": [
        "### Váriaveis do *Dataset*"
      ]
    },
    {
      "cell_type": "code",
      "execution_count": 64,
      "metadata": {
        "colab": {
          "base_uri": "https://localhost:8080/"
        },
        "id": "RHphzXyIpihI",
        "outputId": "2af40e07-c24b-46d8-bd5c-7ab1b8702f4c"
      },
      "outputs": [
        {
          "output_type": "execute_result",
          "data": {
            "text/plain": [
              "Index(['Tamanho', 'NumAmostra', 'Area', 'Delta', 'Output1', 'Output2'], dtype='object')"
            ]
          },
          "metadata": {},
          "execution_count": 64
        }
      ],
      "source": [
        "DataSet.columns"
      ]
    },
    {
      "cell_type": "markdown",
      "metadata": {
        "id": "euUVHISfpihJ"
      },
      "source": [
        "### Número de Peças\n",
        "\n",
        "#### Vamos classificar os grupos pelo número de peças: \n",
        "1. Grupo com uma peça\n",
        "2. Grupo com duas peças"
      ]
    },
    {
      "cell_type": "code",
      "execution_count": 65,
      "metadata": {
        "colab": {
          "base_uri": "https://localhost:8080/",
          "height": 279
        },
        "id": "aTsdtx5_pihJ",
        "outputId": "ae203f0a-5862-4aca-ee57-528e7ccdd6a6"
      },
      "outputs": [
        {
          "output_type": "display_data",
          "data": {
            "image/png": "[encoded data removed]",
            "text/plain": [
              "<Figure size 432x288 with 1 Axes>"
            ]
          },
          "metadata": {}
        }
      ],
      "source": [
        "sns.set_style('whitegrid')\n",
        "sns.countplot(x='Output2',data=DataSet,palette='RdBu_r')\n",
        "plt.show()"
      ]
    },
    {
      "cell_type": "markdown",
      "metadata": {
        "id": "ELDWD_3fpihK"
      },
      "source": [
        "#### Gráfico da distribuição das áreas das peças"
      ]
    },
    {
      "cell_type": "code",
      "execution_count": 66,
      "metadata": {
        "colab": {
          "base_uri": "https://localhost:8080/",
          "height": 334
        },
        "id": "ZKOgxJV8pihK",
        "outputId": "417367e2-5ca5-4b47-9dbe-fd4cf8a465fa"
      },
      "outputs": [
        {
          "output_type": "stream",
          "name": "stderr",
          "text": [
            "/usr/local/lib/python3.7/dist-packages/seaborn/distributions.py:2619: FutureWarning: `distplot` is a deprecated function and will be removed in a future version. Please adapt your code to use either `displot` (a figure-level function with similar flexibility) or `histplot` (an axes-level function for histograms).\n",
            "  warnings.warn(msg, FutureWarning)\n"
          ]
        },
        {
          "output_type": "display_data",
          "data": {
            "image/png": "[encoded data removed]",
            "text/plain": [
              "<Figure size 432x288 with 1 Axes>"
            ]
          },
          "metadata": {}
        }
      ],
      "source": [
        "sns.distplot(DataSet['Area'].dropna(),kde=False,color='darkred',bins=30)\n",
        "plt.show()"
      ]
    },
    {
      "cell_type": "code",
      "execution_count": 67,
      "metadata": {
        "colab": {
          "base_uri": "https://localhost:8080/",
          "height": 279
        },
        "id": "k9i3YpaXpihL",
        "outputId": "1c7dd6d7-c788-4cd3-d843-a487c76b558a"
      },
      "outputs": [
        {
          "output_type": "display_data",
          "data": {
            "image/png": "[encoded data removed]",
            "text/plain": [
              "<Figure size 432x288 with 1 Axes>"
            ]
          },
          "metadata": {}
        }
      ],
      "source": [
        "sns.set_style('whitegrid')\n",
        "sns.countplot(x='Area',hue='Output2',data=DataSet,palette='rainbow')\n",
        "plt.show()"
      ]
    },
    {
      "cell_type": "code",
      "execution_count": 68,
      "metadata": {
        "colab": {
          "base_uri": "https://localhost:8080/",
          "height": 279
        },
        "id": "RK6DdUQ0pihL",
        "outputId": "6099f5d5-c785-404c-cb0b-5088b8213502"
      },
      "outputs": [
        {
          "output_type": "display_data",
          "data": {
            "image/png": "[encoded data removed]",
            "text/plain": [
              "<Figure size 432x288 with 1 Axes>"
            ]
          },
          "metadata": {}
        }
      ],
      "source": [
        "sns.set_style('whitegrid')\n",
        "sns.countplot(x='NumAmostra',hue='Output2',data=DataSet,palette='rainbow')\n",
        "plt.show()"
      ]
    },
    {
      "cell_type": "code",
      "execution_count": 69,
      "metadata": {
        "colab": {
          "base_uri": "https://localhost:8080/",
          "height": 279
        },
        "id": "2cEOmHnCpihM",
        "outputId": "13ba4b40-c1ff-492e-8d36-82f7b43dc145"
      },
      "outputs": [
        {
          "output_type": "display_data",
          "data": {
            "image/png": "[encoded data removed]",
            "text/plain": [
              "<Figure size 432x288 with 1 Axes>"
            ]
          },
          "metadata": {}
        }
      ],
      "source": [
        "sns.set_style('whitegrid')\n",
        "sns.countplot(x='Delta',hue='Output1',data=DataSet,palette='rainbow')\n",
        "plt.show()"
      ]
    },
    {
      "cell_type": "markdown",
      "metadata": {
        "id": "mUIO8FnZpihM"
      },
      "source": [
        "## As variáveis preditoras e a variável de resposta\n",
        "\n",
        "Para treinar o modelo de regressão, primeiro precisaremos dividir nossos dados em uma matriz **X** que contenha os dados das variáveis preditoras e uma matriz **y** com os dados da variável de destino.\n",
        "\n",
        "### Matrizes X e y"
      ]
    },
    {
      "cell_type": "code",
      "execution_count": 70,
      "metadata": {
        "id": "0BGe_gDPpihN"
      },
      "outputs": [],
      "source": [
        "X = DataSet[[ 'NumAmostra', 'Area', 'Delta']]\n",
        "y = DataSet[['Output1','Output2']]"
      ]
    },
    {
      "cell_type": "markdown",
      "metadata": {
        "id": "hpXG187npihN"
      },
      "source": [
        "### Relação entre as variáveis preditoras\n",
        "\n",
        "####  Algumas questões importantes\n",
        "**1. Pelo menos um dos preditores x1, x2, ... ,x5  é útil na previsão da resposta?**\n",
        "\n",
        "  Sim, razões que podem afirmar essa correlação é o fato de  x1 ter influência direta sobre Y e indireta para outros cenários do modelo, como por exemplo x1 sobre Y via x2,...,x5.\n",
        "\n",
        "**2. Todos os preditores ajudam a explicar y, ou apenas um subconjunto dos preditores?** \n",
        "\n",
        "Os subconjuntos dos preditores são elaborados através dos dados obtidos a partir da média dos preditores, logo é possível garantir que sim, ajudam.\n",
        "\n",
        "**3. Quão bem o modelo se ajusta aos dados?**\n",
        "\n",
        "Ao fazer a seleção de subconjuntos toma-se uma série de amostras que reduzem o\n",
        "número de variáveis preditoras e melhora consideravelmente o ajuste.\n",
        "\n",
        "\n",
        "**4. Dado um conjunto de valores de previsão, quais valores de resposta devemos prever e quais as métricas indicam um bom modelo de previsão?**\n",
        "\n",
        "Tudo depende do modelo de regressão adotado e do coeficiente qual os preditores foram aplicados, devemos prever valores que se aproximam da média dos dados e as métricas que indicam um bom modelo de previsão podem ser dadas a partir de pequenas variações nos dados normalizados ou até mesmo brutos. \n",
        "\n"
      ]
    },
    {
      "cell_type": "markdown",
      "source": [
        "\n",
        "**Gráficos simples de dispersão**\n",
        "\n",
        "Pelos gráficos abaixo percebemos ... nossa variável de resposta"
      ],
      "metadata": {
        "id": "aNIzQkkUXzNz"
      }
    },
    {
      "cell_type": "code",
      "execution_count": 71,
      "metadata": {
        "colab": {
          "base_uri": "https://localhost:8080/",
          "height": 1000
        },
        "id": "O6ypSCZSpihO",
        "outputId": "dfa037bf-e329-44ad-826c-62315281fb26"
      },
      "outputs": [
        {
          "output_type": "display_data",
          "data": {
            "image/png": "[encoded data removed]",
            "text/plain": [
              "<Figure size 1080x1080 with 42 Axes>"
            ]
          },
          "metadata": {}
        }
      ],
      "source": [
        "sns.pairplot(DataSet)\n",
        "plt.show()"
      ]
    },
    {
      "cell_type": "markdown",
      "metadata": {
        "id": "4-aJSkmVpihO"
      },
      "source": [
        "**Mapa de Calor**\n",
        "\n",
        "O gráfico abaixo mostra através de uma escala de cores a correlação entre as variáveis do *Dataset*. Se observarmos as cores deste gráfico, a variável preditora **'Area'** possui maior correlação com a variável de resposta **'Output'** e a variável **'NumAmostra'** a menor."
      ]
    },
    {
      "cell_type": "code",
      "execution_count": 72,
      "metadata": {
        "colab": {
          "base_uri": "https://localhost:8080/",
          "height": 325
        },
        "id": "mmUrwCv_pihO",
        "outputId": "6f72fee9-ee4f-4259-834e-bce5fbb78cf8"
      },
      "outputs": [
        {
          "output_type": "display_data",
          "data": {
            "image/png": "[encoded data removed]",
            "text/plain": [
              "<Figure size 432x288 with 2 Axes>"
            ]
          },
          "metadata": {}
        }
      ],
      "source": [
        "sns.heatmap(DataSet.corr())\n",
        "plt.show()"
      ]
    },
    {
      "cell_type": "markdown",
      "metadata": {
        "id": "OW_rAvxRpihP"
      },
      "source": [
        "## Normalização dos Dados"
      ]
    },
    {
      "cell_type": "code",
      "execution_count": 77,
      "metadata": {
        "id": "jWTnzu8wpihP"
      },
      "outputs": [],
      "source": [
        "from sklearn.preprocessing import StandardScaler\n",
        "scaler=StandardScaler()\n",
        "DataScaled=scaler.fit_transform(DataSet)\n",
        "DataSetScaled=pd.DataFrame(np.array(DataScaled),columns = ['NumAmostra', 'Area', 'Delta', 'Output1','Output2', 'Tamanho'])"
      ]
    },
    {
      "cell_type": "code",
      "execution_count": 78,
      "metadata": {
        "colab": {
          "base_uri": "https://localhost:8080/",
          "height": 206
        },
        "id": "Dk3BQ_xbpihQ",
        "outputId": "5f68ca97-e075-4422-cf67-876983e508bf"
      },
      "outputs": [
        {
          "output_type": "execute_result",
          "data": {
            "text/html": [
              "\n",
              "  <div id=\"df-d217020a-36de-4fd8-bc18-2a2da864b60e\">\n",
              "    <div class=\"colab-df-container\">\n",
              "      <div>\n",
              "<style scoped>\n",
              "    .dataframe tbody tr th:only-of-type {\n",
              "        vertical-align: middle;\n",
              "    }\n",
              "\n",
              "    .dataframe tbody tr th {\n",
              "        vertical-align: top;\n",
              "    }\n",
              "\n",
              "    .dataframe thead th {\n",
              "        text-align: right;\n",
              "    }\n",
              "</style>\n",
              "<table border=\"1\" class=\"dataframe\">\n",
              "  <thead>\n",
              "    <tr style=\"text-align: right;\">\n",
              "      <th></th>\n",
              "      <th>NumAmostra</th>\n",
              "      <th>Area</th>\n",
              "      <th>Delta</th>\n",
              "      <th>Output1</th>\n",
              "      <th>Output2</th>\n",
              "      <th>Tamanho</th>\n",
              "    </tr>\n",
              "  </thead>\n",
              "  <tbody>\n",
              "    <tr>\n",
              "      <th>0</th>\n",
              "      <td>-0.107833</td>\n",
              "      <td>0.534314</td>\n",
              "      <td>0.565990</td>\n",
              "      <td>0.373528</td>\n",
              "      <td>1.289676</td>\n",
              "      <td>-1.289676</td>\n",
              "    </tr>\n",
              "    <tr>\n",
              "      <th>1</th>\n",
              "      <td>-0.107833</td>\n",
              "      <td>1.693069</td>\n",
              "      <td>0.762257</td>\n",
              "      <td>0.035312</td>\n",
              "      <td>1.289676</td>\n",
              "      <td>-1.289676</td>\n",
              "    </tr>\n",
              "    <tr>\n",
              "      <th>2</th>\n",
              "      <td>-0.107833</td>\n",
              "      <td>0.476377</td>\n",
              "      <td>0.173457</td>\n",
              "      <td>0.007127</td>\n",
              "      <td>1.289676</td>\n",
              "      <td>-1.289676</td>\n",
              "    </tr>\n",
              "    <tr>\n",
              "      <th>3</th>\n",
              "      <td>-0.107833</td>\n",
              "      <td>-1.377630</td>\n",
              "      <td>-0.448055</td>\n",
              "      <td>0.711745</td>\n",
              "      <td>1.289676</td>\n",
              "      <td>-1.289676</td>\n",
              "    </tr>\n",
              "    <tr>\n",
              "      <th>4</th>\n",
              "      <td>-0.107833</td>\n",
              "      <td>0.650190</td>\n",
              "      <td>0.271590</td>\n",
              "      <td>-0.133796</td>\n",
              "      <td>1.289676</td>\n",
              "      <td>-1.289676</td>\n",
              "    </tr>\n",
              "  </tbody>\n",
              "</table>\n",
              "</div>\n",
              "      <button class=\"colab-df-convert\" onclick=\"convertToInteractive('df-d217020a-36de-4fd8-bc18-2a2da864b60e')\"\n",
              "              title=\"Convert this dataframe to an interactive table.\"\n",
              "              style=\"display:none;\">\n",
              "        \n",
              "  <svg xmlns=\"http://www.w3.org/2000/svg\" height=\"24px\"viewBox=\"0 0 24 24\"\n",
              "       width=\"24px\">\n",
              "    <path d=\"M0 0h24v24H0V0z\" fill=\"none\"/>\n",
              "    <path d=\"M18.56 5.44l.94 2.06.94-2.06 2.06-.94-2.06-.94-.94-2.06-.94 2.06-2.06.94zm-11 1L8.5 8.5l.94-2.06 2.06-.94-2.06-.94L8.5 2.5l-.94 2.06-2.06.94zm10 10l.94 2.06.94-2.06 2.06-.94-2.06-.94-.94-2.06-.94 2.06-2.06.94z\"/><path d=\"M17.41 7.96l-1.37-1.37c-.4-.4-.92-.59-1.43-.59-.52 0-1.04.2-1.43.59L10.3 9.45l-7.72 7.72c-.78.78-.78 2.05 0 2.83L4 21.41c.39.39.9.59 1.41.59.51 0 1.02-.2 1.41-.59l7.78-7.78 2.81-2.81c.8-.78.8-2.07 0-2.86zM5.41 20L4 18.59l7.72-7.72 1.47 1.35L5.41 20z\"/>\n",
              "  </svg>\n",
              "      </button>\n",
              "      \n",
              "  <style>\n",
              "    .colab-df-container {\n",
              "      display:flex;\n",
              "      flex-wrap:wrap;\n",
              "      gap: 12px;\n",
              "    }\n",
              "\n",
              "    .colab-df-convert {\n",
              "      background-color: #E8F0FE;\n",
              "      border: none;\n",
              "      border-radius: 50%;\n",
              "      cursor: pointer;\n",
              "      display: none;\n",
              "      fill: #1967D2;\n",
              "      height: 32px;\n",
              "      padding: 0 0 0 0;\n",
              "      width: 32px;\n",
              "    }\n",
              "\n",
              "    .colab-df-convert:hover {\n",
              "      background-color: #E2EBFA;\n",
              "      box-shadow: 0px 1px 2px rgba(60, 64, 67, 0.3), 0px 1px 3px 1px rgba(60, 64, 67, 0.15);\n",
              "      fill: #174EA6;\n",
              "    }\n",
              "\n",
              "    [theme=dark] .colab-df-convert {\n",
              "      background-color: #3B4455;\n",
              "      fill: #D2E3FC;\n",
              "    }\n",
              "\n",
              "    [theme=dark] .colab-df-convert:hover {\n",
              "      background-color: #434B5C;\n",
              "      box-shadow: 0px 1px 3px 1px rgba(0, 0, 0, 0.15);\n",
              "      filter: drop-shadow(0px 1px 2px rgba(0, 0, 0, 0.3));\n",
              "      fill: #FFFFFF;\n",
              "    }\n",
              "  </style>\n",
              "\n",
              "      <script>\n",
              "        const buttonEl =\n",
              "          document.querySelector('#df-d217020a-36de-4fd8-bc18-2a2da864b60e button.colab-df-convert');\n",
              "        buttonEl.style.display =\n",
              "          google.colab.kernel.accessAllowed ? 'block' : 'none';\n",
              "\n",
              "        async function convertToInteractive(key) {\n",
              "          const element = document.querySelector('#df-d217020a-36de-4fd8-bc18-2a2da864b60e');\n",
              "          const dataTable =\n",
              "            await google.colab.kernel.invokeFunction('convertToInteractive',\n",
              "                                                     [key], {});\n",
              "          if (!dataTable) return;\n",
              "\n",
              "          const docLinkHtml = 'Like what you see? Visit the ' +\n",
              "            '<a target=\"_blank\" href=https://colab.research.google.com/notebooks/data_table.ipynb>data table notebook</a>'\n",
              "            + ' to learn more about interactive tables.';\n",
              "          element.innerHTML = '';\n",
              "          dataTable['output_type'] = 'display_data';\n",
              "          await google.colab.output.renderOutput(dataTable, element);\n",
              "          const docLink = document.createElement('div');\n",
              "          docLink.innerHTML = docLinkHtml;\n",
              "          element.appendChild(docLink);\n",
              "        }\n",
              "      </script>\n",
              "    </div>\n",
              "  </div>\n",
              "  "
            ],
            "text/plain": [
              "   NumAmostra      Area     Delta   Output1   Output2   Tamanho\n",
              "0   -0.107833  0.534314  0.565990  0.373528  1.289676 -1.289676\n",
              "1   -0.107833  1.693069  0.762257  0.035312  1.289676 -1.289676\n",
              "2   -0.107833  0.476377  0.173457  0.007127  1.289676 -1.289676\n",
              "3   -0.107833 -1.377630 -0.448055  0.711745  1.289676 -1.289676\n",
              "4   -0.107833  0.650190  0.271590 -0.133796  1.289676 -1.289676"
            ]
          },
          "metadata": {},
          "execution_count": 78
        }
      ],
      "source": [
        "DataSetScaled.head()"
      ]
    },
    {
      "cell_type": "markdown",
      "metadata": {
        "id": "HcRRpFJypihQ"
      },
      "source": [
        "### Conjunto de dados para o treinamento"
      ]
    },
    {
      "cell_type": "code",
      "execution_count": 79,
      "metadata": {
        "id": "KIMP8uY8pihQ"
      },
      "outputs": [],
      "source": [
        "X = DataSetScaled.drop(['Output1', 'Output2'],axis=1)\n",
        "y = DataSet[['Output1','Output2']]"
      ]
    },
    {
      "cell_type": "markdown",
      "metadata": {
        "id": "QBMPsMSVpihR"
      },
      "source": [
        "## Separando os dados de treinamento e de validação\n",
        "\n",
        "Agora vamos dividir os dados em um conjunto de treinamento e um conjunto de testes. Vamos treinar o modelo no conjunto de treinamento, em seguida, usar o conjunto de teste para validar o modelo.\n",
        "\n",
        "Em nosso exemplo iremos separar de forma randômica 33% dos dados para validação. Estes dados não serão utilizados para determinação dos coeficientes preditores do modelo. \n"
      ]
    },
    {
      "cell_type": "code",
      "execution_count": 80,
      "metadata": {
        "colab": {
          "base_uri": "https://localhost:8080/"
        },
        "id": "1k8ygIPApihR",
        "outputId": "ee99a026-feac-4b6c-f463-736e04fcd264"
      },
      "outputs": [
        {
          "output_type": "stream",
          "name": "stdout",
          "text": [
            "     Output1  Output2\n",
            "89         1        0\n",
            "212        0        1\n",
            "218        0        1\n",
            "96         1        0\n",
            "88         1        0\n",
            "..       ...      ...\n",
            "22         1        0\n",
            "42         1        0\n",
            "160        0        1\n",
            "93         1        0\n",
            "50         1        0\n",
            "\n",
            "[79 rows x 2 columns]\n",
            "     NumAmostra      Area     Delta   Tamanho\n",
            "89    -0.107833  0.476377 -0.186366 -1.289676\n",
            "212   -0.107833 -0.856191 -1.036855  0.775388\n",
            "218   -0.107833  1.229567 -0.088232  0.775388\n",
            "96    -0.107833 -1.667319 -0.938722 -1.289676\n",
            "88    -0.107833 -0.103000 -0.415344 -1.289676\n",
            "..          ...       ...       ...       ...\n",
            "22    -0.107833  0.534314 -0.251788 -1.289676\n",
            "42    -0.107833  0.534314 -0.120943 -1.289676\n",
            "160   -0.107833  2.214508  1.285635  0.775388\n",
            "93    -0.107833  0.128750  0.009901 -1.289676\n",
            "50    -0.107833  0.360501 -0.055521 -1.289676\n",
            "\n",
            "[79 rows x 4 columns]\n"
          ]
        }
      ],
      "source": [
        "from sklearn.model_selection import train_test_split\n",
        "X_train, X_test, y_train, y_test = train_test_split(X, y, test_size=0.30, random_state=101)\n",
        "\n",
        "print(y_test)\n",
        "print(X_test)"
      ]
    },
    {
      "cell_type": "markdown",
      "metadata": {
        "id": "v4OOUpnqpihR"
      },
      "source": [
        "## Criando o Modelo de MPL"
      ]
    },
    {
      "cell_type": "code",
      "execution_count": 81,
      "metadata": {
        "id": "ZQLP1N4ypihR"
      },
      "outputs": [],
      "source": [
        "#Tamanho do DataSet de Treinamento\n",
        "n_records, n_features = X_train.shape\n",
        "\n",
        "#Arquitetura da MPL\n",
        "N_input = 4\n",
        "N_hidden = 8\n",
        "N_output = 2\n",
        "learnrate = 0.1"
      ]
    },
    {
      "cell_type": "markdown",
      "metadata": {
        "id": "WeUgJh2XpihS"
      },
      "source": [
        "## Inicialização dos pesos da MPL (Aleatório)"
      ]
    },
    {
      "cell_type": "code",
      "execution_count": 82,
      "metadata": {
        "colab": {
          "base_uri": "https://localhost:8080/"
        },
        "id": "NvWZCdE-pihS",
        "outputId": "57726c9c-44df-4e2d-f37d-4c4c3a9e9f52"
      },
      "outputs": [
        {
          "output_type": "stream",
          "name": "stdout",
          "text": [
            "Pesos da Camada Oculta:\n",
            "[[-0.02087775 -0.12973386 -0.14587348  0.06777075 -0.12461149  0.22882168\n",
            "   0.04429474  0.16907674]\n",
            " [-0.09125158  0.02142425  0.13125544  0.16720501  0.09476958  0.12816439\n",
            "  -0.01475622 -0.02464078]\n",
            " [-0.07906314  0.16914509 -0.04930643  0.05323075  0.16677219  0.05712843\n",
            "  -0.00129255  0.00523623]\n",
            " [-0.04550315 -0.20034582 -0.0439807  -0.01843964  0.19569103  0.01622294\n",
            "  -0.07932055  0.05410841]]\n",
            "Pesos da Camada de Saída:\n",
            "[[ 1.07025436e-02 -1.62629931e-01]\n",
            " [ 8.72608646e-02  6.72179397e-02]\n",
            " [-8.92861962e-02 -1.08696291e-01]\n",
            " [ 6.21684874e-02 -2.54535363e-02]\n",
            " [-4.52138130e-02  4.86848582e-03]\n",
            " [ 2.79697059e-02 -6.43360424e-02]\n",
            " [-7.88658175e-02 -2.04051311e-05]\n",
            " [-7.29712582e-02  4.17544281e-02]]\n"
          ]
        }
      ],
      "source": [
        "#Pesos da Camada Oculta (Inicialização Aleatória)\n",
        "weights_input_hidden = np.random.normal(0, scale=0.1, size=(N_input, N_hidden))\n",
        "print('Pesos da Camada Oculta:')\n",
        "print(weights_input_hidden)\n",
        "\n",
        "#Pesos da Camada de Saída (Inicialização Aleatória)\n",
        "weights_hidden_output = np.random.normal(0, scale=0.1, size=(N_hidden, N_output))\n",
        "print('Pesos da Camada de Saída:')\n",
        "print(weights_hidden_output)"
      ]
    },
    {
      "cell_type": "markdown",
      "metadata": {
        "id": "TJpG4iiEpihS"
      },
      "source": [
        "## Algoritmo Backpropagation"
      ]
    },
    {
      "cell_type": "code",
      "execution_count": 83,
      "metadata": {
        "colab": {
          "base_uri": "https://localhost:8080/"
        },
        "id": "xgepUVpRpihT",
        "outputId": "2ca7002e-4b48-4be5-8fe9-c5c9bce0cabd"
      },
      "outputs": [
        {
          "output_type": "stream",
          "name": "stdout",
          "text": [
            "Erro quadrático no treinamento:  0.24165477816088762\n",
            "Erro quadrático no treinamento:  0.05854484099683646\n",
            "Erro quadrático no treinamento:  0.009732078690037588\n",
            "Erro quadrático no treinamento:  0.004524790117102759\n",
            "Erro quadrático no treinamento:  0.0028261545063037706\n",
            "Erro quadrático no treinamento:  0.002018068568357863\n",
            "Erro quadrático no treinamento:  0.0015542663639644006\n",
            "Erro quadrático no treinamento:  0.0012563943244256117\n",
            "Erro quadrático no treinamento:  0.0010502216642290325\n",
            "Erro quadrático no treinamento:  0.0008996934955731545\n",
            "Erro quadrático no treinamento:  0.0007853088486088266\n",
            "Erro quadrático no treinamento:  0.0006956482658297184\n",
            "Erro quadrático no treinamento:  0.0006236029868265126\n",
            "Erro quadrático no treinamento:  0.0005645274518665758\n",
            "Erro quadrático no treinamento:  0.0005152633752179707\n",
            "Erro quadrático no treinamento:  0.00047359197587199767\n",
            "Erro quadrático no treinamento:  0.0004379107614396021\n",
            "Erro quadrático no treinamento:  0.00040703464030766444\n",
            "Erro quadrático no treinamento:  0.00038006908702451566\n",
            "Erro quadrático no treinamento:  0.00035632672768417997\n"
          ]
        }
      ],
      "source": [
        "epochs = 20000\n",
        "last_loss=None\n",
        "EvolucaoError=[]\n",
        "IndiceError=[]\n",
        "\n",
        "for e in range(epochs):\n",
        "    delta_w_i_h = np.zeros(weights_input_hidden.shape)\n",
        "    delta_w_h_o = np.zeros(weights_hidden_output.shape)\n",
        "    for xi, yi in zip(X_train.values, y_train.values):\n",
        "        \n",
        "# Forward Pass\n",
        "        #Camada oculta\n",
        "        #Calcule a combinação linear de entradas e pesos sinápticos\n",
        "        hidden_layer_input = np.dot(xi, weights_input_hidden)\n",
        "        #Aplicado a função de ativação\n",
        "        hidden_layer_output = sigmoid(hidden_layer_input)\n",
        "    \n",
        "        #Camada de Saída\n",
        "        #Calcule a combinação linear de entradas e pesos sinápticos\n",
        "        output_layer_in = np.dot(hidden_layer_output, weights_hidden_output)\n",
        "\n",
        "        #Aplicado a função de ativação \n",
        "        output = sigmoid(output_layer_in)\n",
        "        #print('As saídas da rede são',output)\n",
        "#-------------------------------------------    \n",
        "    \n",
        "# Backward Pass\n",
        "        ## TODO: Cálculo do Erro\n",
        "        error = yi - output\n",
        "    \n",
        "        # TODO: Calcule o termo de erro de saída (Gradiente da Camada de Saída)\n",
        "        output_error_term = error * output * (1 - output)\n",
        "\n",
        "        # TODO: Calcule a contribuição da camada oculta para o erro\n",
        "        hidden_error = np.dot(weights_hidden_output,output_error_term)\n",
        "    \n",
        "        # TODO: Calcule o termo de erro da camada oculta (Gradiente da Camada Oculta)\n",
        "        hidden_error_term = hidden_error * hidden_layer_output * (1 - hidden_layer_output)\n",
        "    \n",
        "        # TODO: Calcule a variação do peso da camada de saída\n",
        "        delta_w_h_o += output_error_term*hidden_layer_output[:, None]\n",
        "\n",
        "        # TODO: Calcule a variação do peso da camada oculta\n",
        "        delta_w_i_h += hidden_error_term * xi[:, None]\n",
        "        \n",
        "    #Atualização dos pesos na época em questão\n",
        "    weights_input_hidden += learnrate * delta_w_i_h / n_records\n",
        "    weights_hidden_output += learnrate * delta_w_h_o / n_records\n",
        "    \n",
        "    \n",
        "    # Imprimir o erro quadrático médio no conjunto de treinamento\n",
        "    \n",
        "    if  e % (epochs / 20) == 0:\n",
        "        hidden_output = sigmoid(np.dot(xi, weights_input_hidden))\n",
        "        out = sigmoid(np.dot(hidden_output,\n",
        "                             weights_hidden_output))\n",
        "        loss = np.mean((out - yi) ** 2)\n",
        "\n",
        "        if last_loss and last_loss < loss:\n",
        "            print(\"Erro quadrático no treinamento: \", loss, \" Atenção: O erro está aumentando\")\n",
        "        else:\n",
        "            print(\"Erro quadrático no treinamento: \", loss)\n",
        "        last_loss = loss\n",
        "         \n",
        "        EvolucaoError.append(loss)\n",
        "        IndiceError.append(e)"
      ]
    },
    {
      "cell_type": "code",
      "execution_count": 84,
      "metadata": {
        "id": "wq_B0nMdpihU"
      },
      "outputs": [],
      "source": [
        "### Gráfico da Evolução do Erro"
      ]
    },
    {
      "cell_type": "code",
      "execution_count": 85,
      "metadata": {
        "colab": {
          "base_uri": "https://localhost:8080/",
          "height": 281
        },
        "id": "ZdztWG1ypihU",
        "outputId": "cc9560b3-84bc-460e-99e0-eb0c99aec56c"
      },
      "outputs": [
        {
          "output_type": "display_data",
          "data": {
            "image/png": "[encoded data removed]",
            "text/plain": [
              "<Figure size 432x288 with 1 Axes>"
            ]
          },
          "metadata": {}
        }
      ],
      "source": [
        "plt.plot(IndiceError, EvolucaoError, 'r') # 'r' is the color red\n",
        "plt.xlabel('')\n",
        "plt.ylabel('Erro Quadrático')\n",
        "plt.title('Evolução do Erro no treinamento da MPL')\n",
        "plt.show()"
      ]
    },
    {
      "cell_type": "markdown",
      "metadata": {
        "id": "lZP8-LV5pihU"
      },
      "source": [
        "## Validação do modelo"
      ]
    },
    {
      "cell_type": "code",
      "execution_count": 86,
      "metadata": {
        "colab": {
          "base_uri": "https://localhost:8080/"
        },
        "id": "IHZ9H1-spihV",
        "outputId": "67251977-1ab9-4738-ba59-f40ba7b9f2c2"
      },
      "outputs": [
        {
          "output_type": "stream",
          "name": "stdout",
          "text": [
            "A Acurácia da Predição é de: 1.000\n"
          ]
        }
      ],
      "source": [
        "# Calcule a precisão dos dados de teste\n",
        "n_records, n_features = X_test.shape\n",
        "predictions=0\n",
        "\n",
        "for xi, yi in zip(X_test.values, y_test.values):\n",
        "\n",
        "# Forward Pass\n",
        "        #Camada oculta\n",
        "        #Calcule a combinação linear de entradas e pesos sinápticos\n",
        "        hidden_layer_input = np.dot(xi, weights_input_hidden)\n",
        "        #Aplicado a função de ativação\n",
        "        hidden_layer_output = sigmoid(hidden_layer_input)\n",
        "    \n",
        "        #Camada de Saída\n",
        "        #Calcule a combinação linear de entradas e pesos sinápticos\n",
        "        output_layer_in = np.dot(hidden_layer_output, weights_hidden_output)\n",
        "\n",
        "        #Aplicado a função de ativação \n",
        "        output = sigmoid(output_layer_in)\n",
        "\n",
        "#-------------------------------------------    \n",
        "    \n",
        "#Cálculo do Erro da Predição\n",
        "        ## TODO: Cálculo do Erro        \n",
        "        if (output[0]>output[1]):\n",
        "            if (yi[0]>yi[1]):\n",
        "                predictions+=1\n",
        "                \n",
        "        if (output[1]>=output[0]):\n",
        "            if (yi[1]>yi[0]):\n",
        "                predictions+=1\n",
        "\n",
        "print(\"A Acurácia da Predição é de: {:.3f}\".format(predictions/n_records))\n",
        " \n"
      ]
    },
    {
      "cell_type": "code",
      "execution_count": null,
      "metadata": {
        "id": "2zdefO9gpihV"
      },
      "outputs": [],
      "source": [
        ""
      ]
    }
  ],
  "metadata": {
    "kernelspec": {
      "display_name": "Python 3",
      "language": "python",
      "name": "python3"
    },
    "language_info": {
      "codemirror_mode": {
        "name": "ipython",
        "version": 3
      },
      "file_extension": ".py",
      "mimetype": "text/x-python",
      "name": "python",
      "nbconvert_exporter": "python",
      "pygments_lexer": "ipython3",
      "version": "3.7.3"
    },
    "colab": {
      "name": "TrabalhoRNA.ipynb",
      "provenance": [],
      "collapsed_sections": []
    }
  },
  "nbformat": 4,
  "nbformat_minor": 0
}